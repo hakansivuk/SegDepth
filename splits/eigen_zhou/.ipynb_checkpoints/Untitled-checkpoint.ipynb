{
 "cells": [
  {
   "cell_type": "code",
   "execution_count": 2,
   "metadata": {},
   "outputs": [],
   "source": [
    "import os"
   ]
  },
  {
   "cell_type": "code",
   "execution_count": 3,
   "metadata": {},
   "outputs": [],
   "source": [
    "def readlines(filename):\n",
    "    \"\"\"Read all the lines in a text file and return as a list\n",
    "    \"\"\"\n",
    "    with open(filename, 'r') as f:\n",
    "        lines = f.read().splitlines()\n",
    "    return lines"
   ]
  },
  {
   "cell_type": "code",
   "execution_count": 5,
   "metadata": {},
   "outputs": [],
   "source": [
    "a = readlines('train_files.txt')"
   ]
  },
  {
   "cell_type": "code",
   "execution_count": 13,
   "metadata": {},
   "outputs": [],
   "source": [
    "parts = a[0].split()"
   ]
  },
  {
   "cell_type": "code",
   "execution_count": 14,
   "metadata": {},
   "outputs": [
    {
     "data": {
      "text/plain": [
       "'2011_09_26/2011_09_26_drive_0022_sync'"
      ]
     },
     "execution_count": 14,
     "metadata": {},
     "output_type": "execute_result"
    }
   ],
   "source": [
    "parts[0]"
   ]
  },
  {
   "cell_type": "code",
   "execution_count": 16,
   "metadata": {},
   "outputs": [],
   "source": [
    "filtered = []\n",
    "# City\n",
    "filtered.append('2011_09_26_drive_0001_sync')\n",
    "filtered.append('2011_09_26_drive_0002_sync')\n",
    "filtered.append('2011_09_26_drive_0005_sync')\n",
    "filtered.append('2011_09_26_drive_0011_sync')\n",
    "\n",
    "# Residential\n",
    "filtered.append('2011_09_26_drive_0020_sync')\n",
    "filtered.append('2011_09_26_drive_0035_sync')\n",
    "filtered.append('2011_09_26_drive_0046_sync')\n",
    "filtered.append('2011_09_26_drive_0079_sync')\n",
    "\n",
    "#Road\n",
    "filtered.append('2011_09_26_drive_0052_sync')\n",
    "filtered.append('2011_09_26_drive_0070_sync')\n",
    "filtered.append('2011_09_26_drive_0027_sync')\n",
    "\n",
    "#Car\n",
    "filtered.append('2011_09_28_drive_0016_sync')\n",
    "filtered.append('2011_09_28_drive_0021_sync')\n",
    "filtered.append('2011_09_28_drive_0034_sync')\n",
    "filtered.append('2011_09_28_drive_0035_sync')\n",
    "filtered.append('2011_09_28_drive_0037_sync')"
   ]
  },
  {
   "cell_type": "code",
   "execution_count": 29,
   "metadata": {},
   "outputs": [],
   "source": [
    "def filter_txt(file_path,filtered):\n",
    "    old_lines = readlines(file_path+\".txt\")\n",
    "    new_lines = []\n",
    "    for line in old_lines:\n",
    "        if line.split()[0].split('/')[1] in filtered:\n",
    "            new_lines.append(line)\n",
    "    new_file = \"\\n\".join(new_lines)\n",
    "    file = open('{}_filtered'.format(file_path) + \".txt\" ,\"w+\")\n",
    "    file.write(new_file)\n",
    "    file.close()"
   ]
  },
  {
   "cell_type": "code",
   "execution_count": 30,
   "metadata": {},
   "outputs": [],
   "source": [
    "filter_txt('val_files', filtered)"
   ]
  },
  {
   "cell_type": "code",
   "execution_count": 31,
   "metadata": {},
   "outputs": [],
   "source": [
    "filter_txt('train_files', filtered)"
   ]
  }
 ],
 "metadata": {
  "kernelspec": {
   "display_name": "monodepth2",
   "language": "python",
   "name": "monodepth2"
  },
  "language_info": {
   "codemirror_mode": {
    "name": "ipython",
    "version": 3
   },
   "file_extension": ".py",
   "mimetype": "text/x-python",
   "name": "python",
   "nbconvert_exporter": "python",
   "pygments_lexer": "ipython3",
   "version": "3.6.6"
  }
 },
 "nbformat": 4,
 "nbformat_minor": 2
}
